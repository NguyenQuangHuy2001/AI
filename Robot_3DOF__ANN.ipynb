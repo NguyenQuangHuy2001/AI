{
  "nbformat": 4,
  "nbformat_minor": 0,
  "metadata": {
    "colab": {
      "name": "Robot_3DOF _ANN.ipynb",
      "provenance": [],
      "authorship_tag": "ABX9TyOqEnwPKsFdRnssOAoeYdCL",
      "include_colab_link": true
    },
    "kernelspec": {
      "name": "python3",
      "display_name": "Python 3"
    },
    "language_info": {
      "name": "python"
    }
  },
  "cells": [
    {
      "cell_type": "markdown",
      "metadata": {
        "id": "view-in-github",
        "colab_type": "text"
      },
      "source": [
        "<a href=\"https://colab.research.google.com/github/NguyenQuangHuy2001/AI/blob/main/Robot_3DOF__ANN.ipynb\" target=\"_parent\"><img src=\"https://colab.research.google.com/assets/colab-badge.svg\" alt=\"Open In Colab\"/></a>"
      ]
    },
    {
      "cell_type": "markdown",
      "source": [
        "Tạo dữ liệu "
      ],
      "metadata": {
        "id": "U1BVSQhuz9h8"
      }
    },
    {
      "cell_type": "code",
      "execution_count": 6,
      "metadata": {
        "id": "5ZtdSi-Tz3Zc"
      },
      "outputs": [],
      "source": [
        "from math import cos, sin, pi\n",
        "from pandas import DataFrame\n",
        "import numpy as np\n",
        "theta1 = []\n",
        "theta2 = []\n",
        "theta3 = []\n",
        "px = []\n",
        "py = []\n",
        "Si = []\n",
        "l1 = 50\n",
        "l2 = 40\n",
        "l3 = 20\n",
        "for t1 in range (0,90):\n",
        "    for t2 in range (0,180):\n",
        "        for t3 in range (0,180):\n",
        "            theta1.append(t1)\n",
        "            theta2.append(t2)\n",
        "            theta3.append(t3)\n",
        "            px.append(round(l1*cos(t1*pi/180) + l2*cos((t1+t2)*pi/180) + l3*cos((t1+t2+t3)*pi/180),2))\n",
        "            py.append(round(l1*sin(t1*pi/180) + l2*sin((t1+t2)*pi/180) + l3*sin((t1+t2+t3)*pi/180),2))\n",
        "            Si.append(t1+t2+t3)\n",
        "df = DataFrame(np.c_[theta1,theta2,theta3,px,py,Si],columns = ['theta1','theta2','theta3','px','py','Si'])\n",
        "export_csv = df.to_csv (r'Robot_3DOF_ANN.csv', index = None, header=True)"
      ]
    },
    {
      "cell_type": "markdown",
      "source": [
        "Import thư viện"
      ],
      "metadata": {
        "id": "4BdGaPlb0ECb"
      }
    },
    {
      "cell_type": "code",
      "source": [
        "from keras.models import Sequential\n",
        "from keras.layers import Dense, Flatten, Dropout\n",
        "from keras.utils import np_utils\n",
        "from tensorflow.keras.optimizers import Adam, SGD, RMSprop\n",
        "from sklearn.preprocessing import StandardScaler\n",
        "import pandas as pd\n",
        "import matplotlib.pyplot as plt\n",
        "from sklearn.model_selection import train_test_split"
      ],
      "metadata": {
        "id": "tWmadbjV0BL8"
      },
      "execution_count": 2,
      "outputs": []
    },
    {
      "cell_type": "markdown",
      "source": [
        "Xử lý dữ liệu"
      ],
      "metadata": {
        "id": "dYfr7WV00Om8"
      }
    },
    {
      "cell_type": "code",
      "source": [
        "url = 'Robot_3DOF_ANN.csv'\n",
        "data = pd.read_csv(url)\n",
        "#print(data)\n",
        "data_x = data.drop(data.columns[:3], axis = 1)\n",
        "#print(data_x)\n",
        "X = data_x.values.tolist()\n",
        "data_y = data.drop(data.columns[3:], axis = 1)\n",
        "#print(data_y)\n",
        "Y = data_y.values.tolist()\n",
        "X_train, X_test, Y_train, Y_test = train_test_split(X,Y,test_size = 0.2)\n",
        "\n",
        "standard_scaler = StandardScaler()\n",
        "X_train = standard_scaler.fit_transform(X_train)\n",
        "X_train = X_train.data.tolist()\n",
        "\n",
        "X_test = standard_scaler.fit_transform(X_test)\n",
        "X_test = X_test.data.tolist()\n",
        "\n",
        "X_train = np.array(X_train)\n",
        "X_test = np.array(X_test)\n",
        "Y_train = np.array(Y_train)\n",
        "Y_test = np.array(Y_test)"
      ],
      "metadata": {
        "id": "v7-nJHjl0GPM"
      },
      "execution_count": 8,
      "outputs": []
    },
    {
      "cell_type": "markdown",
      "source": [
        "Tạo model "
      ],
      "metadata": {
        "id": "UsGIfXi10jG7"
      }
    },
    {
      "cell_type": "code",
      "source": [
        "\n",
        "model = Sequential()\n",
        "model.add(Dense(64, activation='relu',kernel_initializer='normal', input_shape = (3,)))\n",
        "model.add(Dense(32,activation='relu'))\n",
        "model.add(Dense(3))\n",
        "model.summary()"
      ],
      "metadata": {
        "colab": {
          "base_uri": "https://localhost:8080/"
        },
        "id": "2r2ubMV-0fD0",
        "outputId": "91e486ed-1813-4948-cbcb-16a9760a350a"
      },
      "execution_count": 9,
      "outputs": [
        {
          "output_type": "stream",
          "name": "stdout",
          "text": [
            "Model: \"sequential\"\n",
            "_________________________________________________________________\n",
            " Layer (type)                Output Shape              Param #   \n",
            "=================================================================\n",
            " dense (Dense)               (None, 64)                256       \n",
            "                                                                 \n",
            " dense_1 (Dense)             (None, 32)                2080      \n",
            "                                                                 \n",
            " dense_2 (Dense)             (None, 3)                 99        \n",
            "                                                                 \n",
            "=================================================================\n",
            "Total params: 2,435\n",
            "Trainable params: 2,435\n",
            "Non-trainable params: 0\n",
            "_________________________________________________________________\n"
          ]
        }
      ]
    },
    {
      "cell_type": "markdown",
      "source": [
        "Trainning"
      ],
      "metadata": {
        "id": "mBu5vKIs02CD"
      }
    },
    {
      "cell_type": "code",
      "source": [
        "\n",
        "model.compile(loss='mse', optimizer =RMSprop(), metrics=['mean_absolute_error'])\n",
        "history = model.fit(X_train, Y_train, batch_size = 128, epochs = 64,verbose = 1, validation_split=0.2)\n",
        "#Lưu model\n",
        "model.save('Robot_3DOF_ANN.h5')"
      ],
      "metadata": {
        "colab": {
          "base_uri": "https://localhost:8080/"
        },
        "id": "UPD_N5iH0zrN",
        "outputId": "38e5a2c9-f8b6-4d46-ccf6-19cce8d70372"
      },
      "execution_count": 10,
      "outputs": [
        {
          "output_type": "stream",
          "name": "stdout",
          "text": [
            "Epoch 1/64\n",
            "14580/14580 [==============================] - 31s 2ms/step - loss: 185.9259 - mean_absolute_error: 5.7846 - val_loss: 15.0278 - val_mean_absolute_error: 2.5944\n",
            "Epoch 2/64\n",
            "14580/14580 [==============================] - 29s 2ms/step - loss: 12.2933 - mean_absolute_error: 2.3317 - val_loss: 9.9949 - val_mean_absolute_error: 2.0850\n",
            "Epoch 3/64\n",
            "14580/14580 [==============================] - 29s 2ms/step - loss: 10.0312 - mean_absolute_error: 2.1312 - val_loss: 8.7859 - val_mean_absolute_error: 1.9559\n",
            "Epoch 4/64\n",
            "14580/14580 [==============================] - 29s 2ms/step - loss: 9.1002 - mean_absolute_error: 2.0470 - val_loss: 8.6453 - val_mean_absolute_error: 1.9770\n",
            "Epoch 5/64\n",
            "14580/14580 [==============================] - 29s 2ms/step - loss: 8.5520 - mean_absolute_error: 1.9993 - val_loss: 8.9763 - val_mean_absolute_error: 2.0812\n",
            "Epoch 6/64\n",
            "14580/14580 [==============================] - 29s 2ms/step - loss: 8.1342 - mean_absolute_error: 1.9559 - val_loss: 7.5317 - val_mean_absolute_error: 1.9017\n",
            "Epoch 7/64\n",
            "14580/14580 [==============================] - 31s 2ms/step - loss: 7.6724 - mean_absolute_error: 1.9049 - val_loss: 6.5607 - val_mean_absolute_error: 1.7019\n",
            "Epoch 8/64\n",
            "14580/14580 [==============================] - 28s 2ms/step - loss: 7.3355 - mean_absolute_error: 1.8724 - val_loss: 7.8478 - val_mean_absolute_error: 2.0106\n",
            "Epoch 9/64\n",
            "14580/14580 [==============================] - 28s 2ms/step - loss: 7.0912 - mean_absolute_error: 1.8447 - val_loss: 8.2038 - val_mean_absolute_error: 2.0834\n",
            "Epoch 10/64\n",
            "14580/14580 [==============================] - 28s 2ms/step - loss: 6.8560 - mean_absolute_error: 1.8196 - val_loss: 6.0231 - val_mean_absolute_error: 1.6818\n",
            "Epoch 11/64\n",
            "14580/14580 [==============================] - 29s 2ms/step - loss: 6.5102 - mean_absolute_error: 1.7816 - val_loss: 7.2814 - val_mean_absolute_error: 1.9817\n",
            "Epoch 12/64\n",
            "14580/14580 [==============================] - 31s 2ms/step - loss: 6.2281 - mean_absolute_error: 1.7417 - val_loss: 5.4802 - val_mean_absolute_error: 1.5641\n",
            "Epoch 13/64\n",
            "14580/14580 [==============================] - 29s 2ms/step - loss: 6.0036 - mean_absolute_error: 1.7122 - val_loss: 5.4646 - val_mean_absolute_error: 1.6570\n",
            "Epoch 14/64\n",
            "14580/14580 [==============================] - 29s 2ms/step - loss: 5.8122 - mean_absolute_error: 1.6854 - val_loss: 6.9102 - val_mean_absolute_error: 1.9427\n",
            "Epoch 15/64\n",
            "14580/14580 [==============================] - 28s 2ms/step - loss: 5.6683 - mean_absolute_error: 1.6659 - val_loss: 5.7968 - val_mean_absolute_error: 1.6408\n",
            "Epoch 16/64\n",
            "14580/14580 [==============================] - 29s 2ms/step - loss: 5.5276 - mean_absolute_error: 1.6473 - val_loss: 4.6982 - val_mean_absolute_error: 1.4819\n",
            "Epoch 17/64\n",
            "14580/14580 [==============================] - 28s 2ms/step - loss: 5.4281 - mean_absolute_error: 1.6317 - val_loss: 4.5504 - val_mean_absolute_error: 1.4851\n",
            "Epoch 18/64\n",
            "14580/14580 [==============================] - 29s 2ms/step - loss: 5.3350 - mean_absolute_error: 1.6193 - val_loss: 5.9019 - val_mean_absolute_error: 1.8216\n",
            "Epoch 19/64\n",
            "14580/14580 [==============================] - 28s 2ms/step - loss: 5.2500 - mean_absolute_error: 1.6073 - val_loss: 5.8077 - val_mean_absolute_error: 1.7443\n",
            "Epoch 20/64\n",
            "14580/14580 [==============================] - 32s 2ms/step - loss: 5.1744 - mean_absolute_error: 1.5959 - val_loss: 4.5837 - val_mean_absolute_error: 1.4839\n",
            "Epoch 21/64\n",
            "14580/14580 [==============================] - 29s 2ms/step - loss: 5.1024 - mean_absolute_error: 1.5849 - val_loss: 4.1946 - val_mean_absolute_error: 1.3877\n",
            "Epoch 22/64\n",
            "14580/14580 [==============================] - 29s 2ms/step - loss: 5.0184 - mean_absolute_error: 1.5701 - val_loss: 3.9998 - val_mean_absolute_error: 1.3515\n",
            "Epoch 23/64\n",
            "14580/14580 [==============================] - 28s 2ms/step - loss: 4.9247 - mean_absolute_error: 1.5496 - val_loss: 6.5461 - val_mean_absolute_error: 1.8496\n",
            "Epoch 24/64\n",
            "14580/14580 [==============================] - 29s 2ms/step - loss: 4.8513 - mean_absolute_error: 1.5360 - val_loss: 4.6406 - val_mean_absolute_error: 1.5154\n",
            "Epoch 25/64\n",
            "14580/14580 [==============================] - 30s 2ms/step - loss: 4.7898 - mean_absolute_error: 1.5246 - val_loss: 3.8025 - val_mean_absolute_error: 1.3243\n",
            "Epoch 26/64\n",
            "14580/14580 [==============================] - 30s 2ms/step - loss: 4.7309 - mean_absolute_error: 1.5142 - val_loss: 3.6322 - val_mean_absolute_error: 1.2675\n",
            "Epoch 27/64\n",
            "14580/14580 [==============================] - 29s 2ms/step - loss: 4.6747 - mean_absolute_error: 1.5038 - val_loss: 3.6311 - val_mean_absolute_error: 1.2842\n",
            "Epoch 28/64\n",
            "14580/14580 [==============================] - 30s 2ms/step - loss: 4.6174 - mean_absolute_error: 1.4934 - val_loss: 4.8457 - val_mean_absolute_error: 1.5261\n",
            "Epoch 29/64\n",
            "14580/14580 [==============================] - 29s 2ms/step - loss: 4.5061 - mean_absolute_error: 1.4753 - val_loss: 3.7755 - val_mean_absolute_error: 1.2745\n",
            "Epoch 30/64\n",
            "14580/14580 [==============================] - 29s 2ms/step - loss: 4.4058 - mean_absolute_error: 1.4587 - val_loss: 4.0727 - val_mean_absolute_error: 1.3904\n",
            "Epoch 31/64\n",
            "14580/14580 [==============================] - 29s 2ms/step - loss: 4.3197 - mean_absolute_error: 1.4432 - val_loss: 5.0795 - val_mean_absolute_error: 1.6364\n",
            "Epoch 32/64\n",
            "14580/14580 [==============================] - 29s 2ms/step - loss: 4.2542 - mean_absolute_error: 1.4308 - val_loss: 4.7915 - val_mean_absolute_error: 1.6082\n",
            "Epoch 33/64\n",
            "14580/14580 [==============================] - 28s 2ms/step - loss: 4.2015 - mean_absolute_error: 1.4207 - val_loss: 3.8874 - val_mean_absolute_error: 1.3012\n",
            "Epoch 34/64\n",
            "14580/14580 [==============================] - 29s 2ms/step - loss: 4.1498 - mean_absolute_error: 1.4114 - val_loss: 5.7607 - val_mean_absolute_error: 1.7506\n",
            "Epoch 35/64\n",
            "14580/14580 [==============================] - 30s 2ms/step - loss: 4.1043 - mean_absolute_error: 1.4018 - val_loss: 3.0944 - val_mean_absolute_error: 1.1491\n",
            "Epoch 36/64\n",
            "14580/14580 [==============================] - 29s 2ms/step - loss: 4.0623 - mean_absolute_error: 1.3932 - val_loss: 3.3180 - val_mean_absolute_error: 1.2344\n",
            "Epoch 37/64\n",
            "14580/14580 [==============================] - 29s 2ms/step - loss: 4.0172 - mean_absolute_error: 1.3855 - val_loss: 3.1430 - val_mean_absolute_error: 1.1888\n",
            "Epoch 38/64\n",
            "14580/14580 [==============================] - 29s 2ms/step - loss: 3.9775 - mean_absolute_error: 1.3778 - val_loss: 3.7163 - val_mean_absolute_error: 1.2503\n",
            "Epoch 39/64\n",
            "14580/14580 [==============================] - 30s 2ms/step - loss: 3.9416 - mean_absolute_error: 1.3705 - val_loss: 5.1613 - val_mean_absolute_error: 1.6237\n",
            "Epoch 40/64\n",
            "14580/14580 [==============================] - 29s 2ms/step - loss: 3.8870 - mean_absolute_error: 1.3599 - val_loss: 3.4485 - val_mean_absolute_error: 1.2555\n",
            "Epoch 41/64\n",
            "14580/14580 [==============================] - 30s 2ms/step - loss: 3.8326 - mean_absolute_error: 1.3480 - val_loss: 4.0938 - val_mean_absolute_error: 1.4469\n",
            "Epoch 42/64\n",
            "14580/14580 [==============================] - 29s 2ms/step - loss: 3.7309 - mean_absolute_error: 1.3302 - val_loss: 3.3918 - val_mean_absolute_error: 1.1991\n",
            "Epoch 43/64\n",
            "14580/14580 [==============================] - 29s 2ms/step - loss: 3.6334 - mean_absolute_error: 1.3107 - val_loss: 2.8868 - val_mean_absolute_error: 1.1494\n",
            "Epoch 44/64\n",
            "14580/14580 [==============================] - 30s 2ms/step - loss: 3.5517 - mean_absolute_error: 1.2933 - val_loss: 3.2794 - val_mean_absolute_error: 1.1745\n",
            "Epoch 45/64\n",
            "14580/14580 [==============================] - 30s 2ms/step - loss: 3.4807 - mean_absolute_error: 1.2792 - val_loss: 3.6231 - val_mean_absolute_error: 1.3355\n",
            "Epoch 46/64\n",
            "14580/14580 [==============================] - 31s 2ms/step - loss: 3.4288 - mean_absolute_error: 1.2679 - val_loss: 4.4394 - val_mean_absolute_error: 1.5151\n",
            "Epoch 47/64\n",
            "14580/14580 [==============================] - 30s 2ms/step - loss: 3.3779 - mean_absolute_error: 1.2574 - val_loss: 2.7514 - val_mean_absolute_error: 1.1064\n",
            "Epoch 48/64\n",
            "14580/14580 [==============================] - 30s 2ms/step - loss: 3.3279 - mean_absolute_error: 1.2484 - val_loss: 3.6220 - val_mean_absolute_error: 1.3170\n",
            "Epoch 49/64\n",
            "14580/14580 [==============================] - 30s 2ms/step - loss: 3.2914 - mean_absolute_error: 1.2406 - val_loss: 3.4650 - val_mean_absolute_error: 1.2602\n",
            "Epoch 50/64\n",
            "14580/14580 [==============================] - 31s 2ms/step - loss: 3.2571 - mean_absolute_error: 1.2342 - val_loss: 2.7499 - val_mean_absolute_error: 1.1099\n",
            "Epoch 51/64\n",
            "14580/14580 [==============================] - 30s 2ms/step - loss: 3.2256 - mean_absolute_error: 1.2281 - val_loss: 2.4665 - val_mean_absolute_error: 1.0413\n",
            "Epoch 52/64\n",
            "14580/14580 [==============================] - 30s 2ms/step - loss: 3.1974 - mean_absolute_error: 1.2218 - val_loss: 2.5065 - val_mean_absolute_error: 1.0560\n",
            "Epoch 53/64\n",
            "14580/14580 [==============================] - 29s 2ms/step - loss: 3.1656 - mean_absolute_error: 1.2148 - val_loss: 2.9085 - val_mean_absolute_error: 1.1512\n",
            "Epoch 54/64\n",
            "14580/14580 [==============================] - 28s 2ms/step - loss: 3.1310 - mean_absolute_error: 1.2079 - val_loss: 3.3894 - val_mean_absolute_error: 1.2713\n",
            "Epoch 55/64\n",
            "14580/14580 [==============================] - 29s 2ms/step - loss: 3.1027 - mean_absolute_error: 1.2004 - val_loss: 2.9954 - val_mean_absolute_error: 1.2054\n",
            "Epoch 56/64\n",
            "14580/14580 [==============================] - 28s 2ms/step - loss: 3.0658 - mean_absolute_error: 1.1912 - val_loss: 2.5168 - val_mean_absolute_error: 1.0626\n",
            "Epoch 57/64\n",
            "14580/14580 [==============================] - 30s 2ms/step - loss: 3.0214 - mean_absolute_error: 1.1829 - val_loss: 2.4144 - val_mean_absolute_error: 1.0465\n",
            "Epoch 58/64\n",
            "14580/14580 [==============================] - 29s 2ms/step - loss: 2.9722 - mean_absolute_error: 1.1741 - val_loss: 3.1632 - val_mean_absolute_error: 1.2175\n",
            "Epoch 59/64\n",
            "14580/14580 [==============================] - 30s 2ms/step - loss: 2.9276 - mean_absolute_error: 1.1660 - val_loss: 2.5845 - val_mean_absolute_error: 1.0894\n",
            "Epoch 60/64\n",
            "14580/14580 [==============================] - 31s 2ms/step - loss: 2.8856 - mean_absolute_error: 1.1573 - val_loss: 2.8932 - val_mean_absolute_error: 1.1421\n",
            "Epoch 61/64\n",
            "14580/14580 [==============================] - 30s 2ms/step - loss: 2.8590 - mean_absolute_error: 1.1518 - val_loss: 3.8950 - val_mean_absolute_error: 1.4338\n",
            "Epoch 62/64\n",
            "14580/14580 [==============================] - 28s 2ms/step - loss: 2.8239 - mean_absolute_error: 1.1456 - val_loss: 2.5250 - val_mean_absolute_error: 1.0850\n",
            "Epoch 63/64\n",
            "14580/14580 [==============================] - 30s 2ms/step - loss: 2.7891 - mean_absolute_error: 1.1395 - val_loss: 2.2162 - val_mean_absolute_error: 0.9734\n",
            "Epoch 64/64\n",
            "14580/14580 [==============================] - 31s 2ms/step - loss: 2.7577 - mean_absolute_error: 1.1333 - val_loss: 2.2685 - val_mean_absolute_error: 0.9869\n"
          ]
        }
      ]
    },
    {
      "cell_type": "markdown",
      "source": [
        "Đánh giá - vẽ đồ thị"
      ],
      "metadata": {
        "id": "t1UUGLC71Jly"
      }
    },
    {
      "cell_type": "code",
      "source": [
        "#Danh gia\n",
        "score = model.evaluate(X_test, Y_test, verbose=0)\n",
        "print('Sai số:', score[0])\n",
        "print('mean_absolute_error', score[1])\n",
        "#Do thi\n",
        "pd.DataFrame(history.history).plot(figsize=(8,5))\n",
        "plt.grid(True)\n",
        "plt.gca().set_ylim(0,1.5)\n",
        "plt.show()"
      ],
      "metadata": {
        "colab": {
          "base_uri": "https://localhost:8080/",
          "height": 356
        },
        "id": "WeEYP8cM1IeR",
        "outputId": "6ad4ef1f-c186-442f-b0bd-748d61e91de0"
      },
      "execution_count": 12,
      "outputs": [
        {
          "output_type": "stream",
          "name": "stdout",
          "text": [
            "Sai số: 2.412658214569092\n",
            "mean_absolute_error 1.0288975238800049\n"
          ]
        },
        {
          "output_type": "display_data",
          "data": {
            "text/plain": [
              "<Figure size 576x360 with 1 Axes>"
            ],
            "image/png": "[encoded data removed]"
          },
          "metadata": {
            "needs_background": "light"
          }
        }
      ]
    },
    {
      "cell_type": "markdown",
      "source": [
        "Dự đoán"
      ],
      "metadata": {
        "id": "pU1g5cUV1nrC"
      }
    },
    {
      "cell_type": "code",
      "source": [
        "score = model.evaluate(X_test,Y_test,verbose=0)\n",
        "print ('loss = ',score[0])\n",
        "print ('abs error = ',score[1])\n",
        "\n",
        "Y_predict = model.predict(X_test)\n",
        "cal = pd.DataFrame(np.c_[Y_test,Y_predict],columns = ['theta1','theta2','theta3','t1 predict','t2 predict','t3 predict'])\n",
        "cal"
      ],
      "metadata": {
        "colab": {
          "base_uri": "https://localhost:8080/",
          "height": 460
        },
        "id": "bV32sLxD1m7S",
        "outputId": "de6885f6-5bb3-4487-d1a8-c4c6ebe0b54d"
      },
      "execution_count": 13,
      "outputs": [
        {
          "output_type": "stream",
          "name": "stdout",
          "text": [
            "loss =  2.412658214569092\n",
            "abs error =  1.0288975238800049\n"
          ]
        },
        {
          "output_type": "execute_result",
          "data": {
            "text/plain": [
              "        theta1  theta2  theta3  t1 predict  t2 predict  t3 predict\n",
              "0          9.0    63.0    21.0    9.203407   62.340214   20.532223\n",
              "1         33.0   145.0    93.0   32.534893  144.651215   94.021385\n",
              "2         63.0    32.0    91.0   64.378372   30.188015   91.480553\n",
              "3         45.0   144.0    60.0   45.982441  144.356232   58.974346\n",
              "4         72.0    43.0   119.0   73.818146   41.045898  119.214851\n",
              "...        ...     ...     ...         ...         ...         ...\n",
              "583195    30.0   162.0    57.0   30.176241  162.079803   57.353790\n",
              "583196    73.0   173.0    79.0   74.330498  172.152435   78.303932\n",
              "583197     1.0    11.0    31.0    3.573548    5.726163   32.948833\n",
              "583198    17.0     2.0   179.0   16.018661    3.996179  177.188400\n",
              "583199    61.0    39.0    14.0   62.342369   37.341045   13.957470\n",
              "\n",
              "[583200 rows x 6 columns]"
            ],
            "text/html": [
              "\n",
              "  <div id=\"df-f0ec9a6f-2ad0-4d4a-99bb-de236014a74a\">\n",
              "    <div class=\"colab-df-container\">\n",
              "      <div>\n",
              "<style scoped>\n",
              "    .dataframe tbody tr th:only-of-type {\n",
              "        vertical-align: middle;\n",
              "    }\n",
              "\n",
              "    .dataframe tbody tr th {\n",
              "        vertical-align: top;\n",
              "    }\n",
              "\n",
              "    .dataframe thead th {\n",
              "        text-align: right;\n",
              "    }\n",
              "</style>\n",
              "<table border=\"1\" class=\"dataframe\">\n",
              "  <thead>\n",
              "    <tr style=\"text-align: right;\">\n",
              "      <th></th>\n",
              "      <th>theta1</th>\n",
              "      <th>theta2</th>\n",
              "      <th>theta3</th>\n",
              "      <th>t1 predict</th>\n",
              "      <th>t2 predict</th>\n",
              "      <th>t3 predict</th>\n",
              "    </tr>\n",
              "  </thead>\n",
              "  <tbody>\n",
              "    <tr>\n",
              "      <th>0</th>\n",
              "      <td>9.0</td>\n",
              "      <td>63.0</td>\n",
              "      <td>21.0</td>\n",
              "      <td>9.203407</td>\n",
              "      <td>62.340214</td>\n",
              "      <td>20.532223</td>\n",
              "    </tr>\n",
              "    <tr>\n",
              "      <th>1</th>\n",
              "      <td>33.0</td>\n",
              "      <td>145.0</td>\n",
              "      <td>93.0</td>\n",
              "      <td>32.534893</td>\n",
              "      <td>144.651215</td>\n",
              "      <td>94.021385</td>\n",
              "    </tr>\n",
              "    <tr>\n",
              "      <th>2</th>\n",
              "      <td>63.0</td>\n",
              "      <td>32.0</td>\n",
              "      <td>91.0</td>\n",
              "      <td>64.378372</td>\n",
              "      <td>30.188015</td>\n",
              "      <td>91.480553</td>\n",
              "    </tr>\n",
              "    <tr>\n",
              "      <th>3</th>\n",
              "      <td>45.0</td>\n",
              "      <td>144.0</td>\n",
              "      <td>60.0</td>\n",
              "      <td>45.982441</td>\n",
              "      <td>144.356232</td>\n",
              "      <td>58.974346</td>\n",
              "    </tr>\n",
              "    <tr>\n",
              "      <th>4</th>\n",
              "      <td>72.0</td>\n",
              "      <td>43.0</td>\n",
              "      <td>119.0</td>\n",
              "      <td>73.818146</td>\n",
              "      <td>41.045898</td>\n",
              "      <td>119.214851</td>\n",
              "    </tr>\n",
              "    <tr>\n",
              "      <th>...</th>\n",
              "      <td>...</td>\n",
              "      <td>...</td>\n",
              "      <td>...</td>\n",
              "      <td>...</td>\n",
              "      <td>...</td>\n",
              "      <td>...</td>\n",
              "    </tr>\n",
              "    <tr>\n",
              "      <th>583195</th>\n",
              "      <td>30.0</td>\n",
              "      <td>162.0</td>\n",
              "      <td>57.0</td>\n",
              "      <td>30.176241</td>\n",
              "      <td>162.079803</td>\n",
              "      <td>57.353790</td>\n",
              "    </tr>\n",
              "    <tr>\n",
              "      <th>583196</th>\n",
              "      <td>73.0</td>\n",
              "      <td>173.0</td>\n",
              "      <td>79.0</td>\n",
              "      <td>74.330498</td>\n",
              "      <td>172.152435</td>\n",
              "      <td>78.303932</td>\n",
              "    </tr>\n",
              "    <tr>\n",
              "      <th>583197</th>\n",
              "      <td>1.0</td>\n",
              "      <td>11.0</td>\n",
              "      <td>31.0</td>\n",
              "      <td>3.573548</td>\n",
              "      <td>5.726163</td>\n",
              "      <td>32.948833</td>\n",
              "    </tr>\n",
              "    <tr>\n",
              "      <th>583198</th>\n",
              "      <td>17.0</td>\n",
              "      <td>2.0</td>\n",
              "      <td>179.0</td>\n",
              "      <td>16.018661</td>\n",
              "      <td>3.996179</td>\n",
              "      <td>177.188400</td>\n",
              "    </tr>\n",
              "    <tr>\n",
              "      <th>583199</th>\n",
              "      <td>61.0</td>\n",
              "      <td>39.0</td>\n",
              "      <td>14.0</td>\n",
              "      <td>62.342369</td>\n",
              "      <td>37.341045</td>\n",
              "      <td>13.957470</td>\n",
              "    </tr>\n",
              "  </tbody>\n",
              "</table>\n",
              "<p>583200 rows × 6 columns</p>\n",
              "</div>\n",
              "      <button class=\"colab-df-convert\" onclick=\"convertToInteractive('df-f0ec9a6f-2ad0-4d4a-99bb-de236014a74a')\"\n",
              "              title=\"Convert this dataframe to an interactive table.\"\n",
              "              style=\"display:none;\">\n",
              "        \n",
              "  <svg xmlns=\"http://www.w3.org/2000/svg\" height=\"24px\"viewBox=\"0 0 24 24\"\n",
              "       width=\"24px\">\n",
              "    <path d=\"M0 0h24v24H0V0z\" fill=\"none\"/>\n",
              "    <path d=\"M18.56 5.44l.94 2.06.94-2.06 2.06-.94-2.06-.94-.94-2.06-.94 2.06-2.06.94zm-11 1L8.5 8.5l.94-2.06 2.06-.94-2.06-.94L8.5 2.5l-.94 2.06-2.06.94zm10 10l.94 2.06.94-2.06 2.06-.94-2.06-.94-.94-2.06-.94 2.06-2.06.94z\"/><path d=\"M17.41 7.96l-1.37-1.37c-.4-.4-.92-.59-1.43-.59-.52 0-1.04.2-1.43.59L10.3 9.45l-7.72 7.72c-.78.78-.78 2.05 0 2.83L4 21.41c.39.39.9.59 1.41.59.51 0 1.02-.2 1.41-.59l7.78-7.78 2.81-2.81c.8-.78.8-2.07 0-2.86zM5.41 20L4 18.59l7.72-7.72 1.47 1.35L5.41 20z\"/>\n",
              "  </svg>\n",
              "      </button>\n",
              "      \n",
              "  <style>\n",
              "    .colab-df-container {\n",
              "      display:flex;\n",
              "      flex-wrap:wrap;\n",
              "      gap: 12px;\n",
              "    }\n",
              "\n",
              "    .colab-df-convert {\n",
              "      background-color: #E8F0FE;\n",
              "      border: none;\n",
              "      border-radius: 50%;\n",
              "      cursor: pointer;\n",
              "      display: none;\n",
              "      fill: #1967D2;\n",
              "      height: 32px;\n",
              "      padding: 0 0 0 0;\n",
              "      width: 32px;\n",
              "    }\n",
              "\n",
              "    .colab-df-convert:hover {\n",
              "      background-color: #E2EBFA;\n",
              "      box-shadow: 0px 1px 2px rgba(60, 64, 67, 0.3), 0px 1px 3px 1px rgba(60, 64, 67, 0.15);\n",
              "      fill: #174EA6;\n",
              "    }\n",
              "\n",
              "    [theme=dark] .colab-df-convert {\n",
              "      background-color: #3B4455;\n",
              "      fill: #D2E3FC;\n",
              "    }\n",
              "\n",
              "    [theme=dark] .colab-df-convert:hover {\n",
              "      background-color: #434B5C;\n",
              "      box-shadow: 0px 1px 3px 1px rgba(0, 0, 0, 0.15);\n",
              "      filter: drop-shadow(0px 1px 2px rgba(0, 0, 0, 0.3));\n",
              "      fill: #FFFFFF;\n",
              "    }\n",
              "  </style>\n",
              "\n",
              "      <script>\n",
              "        const buttonEl =\n",
              "          document.querySelector('#df-f0ec9a6f-2ad0-4d4a-99bb-de236014a74a button.colab-df-convert');\n",
              "        buttonEl.style.display =\n",
              "          google.colab.kernel.accessAllowed ? 'block' : 'none';\n",
              "\n",
              "        async function convertToInteractive(key) {\n",
              "          const element = document.querySelector('#df-f0ec9a6f-2ad0-4d4a-99bb-de236014a74a');\n",
              "          const dataTable =\n",
              "            await google.colab.kernel.invokeFunction('convertToInteractive',\n",
              "                                                     [key], {});\n",
              "          if (!dataTable) return;\n",
              "\n",
              "          const docLinkHtml = 'Like what you see? Visit the ' +\n",
              "            '<a target=\"_blank\" href=https://colab.research.google.com/notebooks/data_table.ipynb>data table notebook</a>'\n",
              "            + ' to learn more about interactive tables.';\n",
              "          element.innerHTML = '';\n",
              "          dataTable['output_type'] = 'display_data';\n",
              "          await google.colab.output.renderOutput(dataTable, element);\n",
              "          const docLink = document.createElement('div');\n",
              "          docLink.innerHTML = docLinkHtml;\n",
              "          element.appendChild(docLink);\n",
              "        }\n",
              "      </script>\n",
              "    </div>\n",
              "  </div>\n",
              "  "
            ]
          },
          "metadata": {},
          "execution_count": 13
        }
      ]
    }
  ]
}