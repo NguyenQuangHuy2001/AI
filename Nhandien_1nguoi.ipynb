{
  "nbformat": 4,
  "nbformat_minor": 0,
  "metadata": {
    "colab": {
      "name": "Nhandien_1nguoi.ipynb",
      "provenance": [],
      "collapsed_sections": [],
      "mount_file_id": "1QzvSBadhLn30fnrPHRzLOjoCAcU5_FBy",
      "authorship_tag": "ABX9TyM2h+3wFG/p1sJbgd6mRizu",
      "include_colab_link": true
    },
    "kernelspec": {
      "name": "python3",
      "display_name": "Python 3"
    },
    "language_info": {
      "name": "python"
    }
  },
  "cells": [
    {
      "cell_type": "markdown",
      "metadata": {
        "id": "view-in-github",
        "colab_type": "text"
      },
      "source": [
        "<a href=\"https://colab.research.google.com/github/NguyenQuangHuy2001/AI/blob/main/Nhandien_1nguoi.ipynb\" target=\"_parent\"><img src=\"https://colab.research.google.com/assets/colab-badge.svg\" alt=\"Open In Colab\"/></a>"
      ]
    },
    {
      "cell_type": "code",
      "execution_count": 1,
      "metadata": {
        "id": "_H9QvB7kT1Ap"
      },
      "outputs": [],
      "source": [
        "from keras.models import Sequential\n",
        "from keras.layers import Dense, Flatten, Dropout, Conv2D, MaxPool2D\n",
        "from keras.utils import np_utils\n",
        "from tensorflow.keras.optimizers import Adam, SGD\n",
        "from tensorflow.keras.preprocessing.image import load_img, img_to_array\n",
        "import glob\n",
        "import pandas as pd\n",
        "import numpy as np\n",
        "import matplotlib.pyplot as plt\n",
        "from random import randint\n",
        "import cv2"
      ]
    },
    {
      "cell_type": "code",
      "source": [
        "train_list = glob.glob('/content/drive/MyDrive/Hình AI/Train/*.jpg')\n",
        "train_list.sort()\n",
        "print (train_list)"
      ],
      "metadata": {
        "colab": {
          "base_uri": "https://localhost:8080/"
        },
        "id": "Te2USRJbT4UT",
        "outputId": "27b7c988-1830-45f8-c13b-494679ea6743"
      },
      "execution_count": 8,
      "outputs": [
        {
          "output_type": "stream",
          "name": "stdout",
          "text": [
            "['/content/drive/MyDrive/Hình AI/Train/BanVuong_00.jpg', '/content/drive/MyDrive/Hình AI/Train/BanVuong_01.jpg', '/content/drive/MyDrive/Hình AI/Train/BanVuong_02.jpg', '/content/drive/MyDrive/Hình AI/Train/BanVuong_03.jpg', '/content/drive/MyDrive/Hình AI/Train/BanVuong_04.jpg', '/content/drive/MyDrive/Hình AI/Train/BanVuong_05.jpg', '/content/drive/MyDrive/Hình AI/Train/BanVuong_06.jpg', '/content/drive/MyDrive/Hình AI/Train/BanVuong_07.jpg', '/content/drive/MyDrive/Hình AI/Train/BanVuong_08.jpg', '/content/drive/MyDrive/Hình AI/Train/BanVuong_09.jpg', '/content/drive/MyDrive/Hình AI/Train/BanVuong_10.jpg', '/content/drive/MyDrive/Hình AI/Train/Bản sao của BanPhuc_00.jpg', '/content/drive/MyDrive/Hình AI/Train/Bản sao của BanPhuc_01.jpg', '/content/drive/MyDrive/Hình AI/Train/Bản sao của BanPhuc_02.jpg', '/content/drive/MyDrive/Hình AI/Train/Bản sao của BanPhuc_03.jpg', '/content/drive/MyDrive/Hình AI/Train/Bản sao của BanPhuc_04.jpg', '/content/drive/MyDrive/Hình AI/Train/Bản sao của BanPhuc_05.jpg', '/content/drive/MyDrive/Hình AI/Train/Bản sao của BanPhuc_06.jpg', '/content/drive/MyDrive/Hình AI/Train/Bản sao của BanPhuc_07.jpg', '/content/drive/MyDrive/Hình AI/Train/Bản sao của BanPhuc_08.jpg', '/content/drive/MyDrive/Hình AI/Train/Bản sao của BanPhuc_09.jpg', '/content/drive/MyDrive/Hình AI/Train/hinh11.jpg', '/content/drive/MyDrive/Hình AI/Train/hinh12.jpg', '/content/drive/MyDrive/Hình AI/Train/hinh13.jpg', '/content/drive/MyDrive/Hình AI/Train/hinh14.jpg', '/content/drive/MyDrive/Hình AI/Train/hinh15.jpg', '/content/drive/MyDrive/Hình AI/Train/hinh16.jpg', '/content/drive/MyDrive/Hình AI/Train/hinh17.jpg', '/content/drive/MyDrive/Hình AI/Train/hinh18.jpg', '/content/drive/MyDrive/Hình AI/Train/hinh19.jpg', '/content/drive/MyDrive/Hình AI/Train/hinh20.jpg']\n"
          ]
        }
      ]
    },
    {
      "cell_type": "code",
      "source": [
        "test_list = glob.glob('/content/drive/MyDrive/Hình AI/Test/*.jpg')\n",
        "test_list.sort()\n",
        "print (test_list)"
      ],
      "metadata": {
        "colab": {
          "base_uri": "https://localhost:8080/"
        },
        "id": "MYJLlZOCT6zT",
        "outputId": "6847482b-c6ed-4ae2-925b-d12d6f56b5ca"
      },
      "execution_count": 10,
      "outputs": [
        {
          "output_type": "stream",
          "name": "stdout",
          "text": [
            "['/content/drive/MyDrive/Hình AI/Test/BanPhuc_10.jpg', '/content/drive/MyDrive/Hình AI/Test/BanPhuc_11.jpg', '/content/drive/MyDrive/Hình AI/Test/BanPhuc_12.jpg', '/content/drive/MyDrive/Hình AI/Test/BanPhuc_13.jpg', '/content/drive/MyDrive/Hình AI/Test/BanPhuc_14.jpg', '/content/drive/MyDrive/Hình AI/Test/BanPhuc_15.jpg', '/content/drive/MyDrive/Hình AI/Test/BanPhuc_16.jpg', '/content/drive/MyDrive/Hình AI/Test/BanPhuc_17.jpg', '/content/drive/MyDrive/Hình AI/Test/BanPhuc_18.jpg', '/content/drive/MyDrive/Hình AI/Test/BanPhuc_19.jpg', '/content/drive/MyDrive/Hình AI/Test/BanPhuc_20.jpg', '/content/drive/MyDrive/Hình AI/Test/BanVuong_11.jpg', '/content/drive/MyDrive/Hình AI/Test/BanVuong_12.jpg', '/content/drive/MyDrive/Hình AI/Test/BanVuong_13.jpg', '/content/drive/MyDrive/Hình AI/Test/BanVuong_14.jpg', '/content/drive/MyDrive/Hình AI/Test/BanVuong_15.jpg', '/content/drive/MyDrive/Hình AI/Test/BanVuong_16.jpg', '/content/drive/MyDrive/Hình AI/Test/BanVuong_17.jpg', '/content/drive/MyDrive/Hình AI/Test/BanVuong_18.jpg', '/content/drive/MyDrive/Hình AI/Test/BanVuong_19.jpg', '/content/drive/MyDrive/Hình AI/Test/BanVuong_20.jpg', '/content/drive/MyDrive/Hình AI/Test/hinh1.jpg', '/content/drive/MyDrive/Hình AI/Test/hinh10.jpg', '/content/drive/MyDrive/Hình AI/Test/hinh2.jpg', '/content/drive/MyDrive/Hình AI/Test/hinh3.jpg', '/content/drive/MyDrive/Hình AI/Test/hinh4.jpg', '/content/drive/MyDrive/Hình AI/Test/hinh5.jpg', '/content/drive/MyDrive/Hình AI/Test/hinh6.jpg', '/content/drive/MyDrive/Hình AI/Test/hinh7.jpg', '/content/drive/MyDrive/Hình AI/Test/hinh8.jpg', '/content/drive/MyDrive/Hình AI/Test/hinh9.jpg']\n"
          ]
        }
      ]
    },
    {
      "cell_type": "markdown",
      "source": [
        ""
      ],
      "metadata": {
        "id": "uEup17-eYYXS"
      }
    },
    {
      "cell_type": "code",
      "source": [
        "x_train = np.zeros([len(train_list),150,150,3],dtype=np.uint8)\n",
        "\n",
        "for i in range(len(train_list)):\n",
        "  image = load_img(train_list[i],target_size=(150,150))\n",
        "  array = img_to_array(image)\n",
        "  x_train[i] = array\n",
        "\n",
        "x_test = np.zeros([len(test_list),150,150,3],dtype=np.uint8)\n",
        "\n",
        "for i in range(len(test_list)):\n",
        "  image = load_img(test_list[i],target_size=(150,150))\n",
        "  array = img_to_array(image)\n",
        "  x_test[i] = array\n",
        "\n",
        "x_train = x_train.astype('float32')\n",
        "x_test = x_test.astype('float32')\n",
        "x_train /= 255.0\n",
        "x_test /= 255.0"
      ],
      "metadata": {
        "id": "4hBRF5A5T9QT"
      },
      "execution_count": 11,
      "outputs": []
    },
    {
      "cell_type": "code",
      "source": [
        "y_train = np.zeros([len(train_list)])\n",
        "y_test = np.array([0,0,0,0,0,0,0,0,0,0,0,0,0,0,0,0,0,0,0,0,0,1,1,1,1,1,1,1,1,1,1])\n",
        "\n",
        "for i in range (len(train_list)):\n",
        "  if i>=0 and i<10:\n",
        "    y_train[i] = 1\n",
        "  else:\n",
        "    y_train[i] = 0\n",
        "y_train = np_utils.to_categorical(y_train,2)\n",
        "y_test = np_utils.to_categorical(y_test,2)\n",
        "y_label = ['khong phai Huy','Ban Huy']\n",
        "print(y_train)"
      ],
      "metadata": {
        "colab": {
          "base_uri": "https://localhost:8080/"
        },
        "id": "7ApJwvyKT_1U",
        "outputId": "0058f259-f346-44f8-ef04-54ab542f4338"
      },
      "execution_count": 18,
      "outputs": [
        {
          "output_type": "stream",
          "name": "stdout",
          "text": [
            "[[0. 1.]\n",
            " [0. 1.]\n",
            " [0. 1.]\n",
            " [0. 1.]\n",
            " [0. 1.]\n",
            " [0. 1.]\n",
            " [0. 1.]\n",
            " [0. 1.]\n",
            " [0. 1.]\n",
            " [0. 1.]\n",
            " [1. 0.]\n",
            " [1. 0.]\n",
            " [1. 0.]\n",
            " [1. 0.]\n",
            " [1. 0.]\n",
            " [1. 0.]\n",
            " [1. 0.]\n",
            " [1. 0.]\n",
            " [1. 0.]\n",
            " [1. 0.]\n",
            " [1. 0.]\n",
            " [1. 0.]\n",
            " [1. 0.]\n",
            " [1. 0.]\n",
            " [1. 0.]\n",
            " [1. 0.]\n",
            " [1. 0.]\n",
            " [1. 0.]\n",
            " [1. 0.]\n",
            " [1. 0.]\n",
            " [1. 0.]]\n"
          ]
        }
      ]
    },
    {
      "cell_type": "code",
      "source": [
        "# Create Model\n",
        "model = Sequential()\n",
        "model.add(Flatten(input_shape=(150,150,3)))\n",
        "model.add(Dense(128,activation='relu'))\n",
        "model.add(Dense(64,activation='relu'))\n",
        "model.add(Dense(2,activation='softmax'))\n",
        "#model.summary()"
      ],
      "metadata": {
        "id": "j5mVChu9UCXT"
      },
      "execution_count": 19,
      "outputs": []
    },
    {
      "cell_type": "code",
      "source": [
        "model.compile(loss='categorical_crossentropy',optimizer=Adam(),metrics=['accuracy'])\n",
        "history = model.fit(x_train,y_train, epochs=100,batch_size = 128,validation_data=(x_test,y_test),verbose=1)"
      ],
      "metadata": {
        "colab": {
          "base_uri": "https://localhost:8080/"
        },
        "id": "STiwX1I5UEnD",
        "outputId": "fd2b5dc4-3164-4b05-d7f4-aec4cb02a7d3"
      },
      "execution_count": 20,
      "outputs": [
        {
          "output_type": "stream",
          "name": "stdout",
          "text": [
            "Epoch 1/100\n",
            "1/1 [==============================] - 1s 646ms/step - loss: 1.2386 - accuracy: 0.3226 - val_loss: 4.1023 - val_accuracy: 0.6774\n",
            "Epoch 2/100\n",
            "1/1 [==============================] - 0s 98ms/step - loss: 3.1408 - accuracy: 0.6774 - val_loss: 38.6313 - val_accuracy: 0.3226\n",
            "Epoch 3/100\n",
            "1/1 [==============================] - 0s 89ms/step - loss: 41.7553 - accuracy: 0.3226 - val_loss: 11.0375 - val_accuracy: 0.6774\n",
            "Epoch 4/100\n",
            "1/1 [==============================] - 0s 99ms/step - loss: 8.3564 - accuracy: 0.6452 - val_loss: 24.7971 - val_accuracy: 0.6774\n",
            "Epoch 5/100\n",
            "1/1 [==============================] - 0s 90ms/step - loss: 14.8408 - accuracy: 0.6774 - val_loss: 34.8472 - val_accuracy: 0.6774\n",
            "Epoch 6/100\n",
            "1/1 [==============================] - 0s 88ms/step - loss: 20.8809 - accuracy: 0.6774 - val_loss: 32.0408 - val_accuracy: 0.6774\n",
            "Epoch 7/100\n",
            "1/1 [==============================] - 0s 98ms/step - loss: 16.0600 - accuracy: 0.6774 - val_loss: 21.3952 - val_accuracy: 0.6774\n",
            "Epoch 8/100\n",
            "1/1 [==============================] - 0s 88ms/step - loss: 4.0554 - accuracy: 0.6774 - val_loss: 18.2134 - val_accuracy: 0.3548\n",
            "Epoch 9/100\n",
            "1/1 [==============================] - 0s 90ms/step - loss: 1.3529 - accuracy: 0.9677 - val_loss: 28.4963 - val_accuracy: 0.6774\n",
            "Epoch 10/100\n",
            "1/1 [==============================] - 0s 87ms/step - loss: 10.6972 - accuracy: 0.6452 - val_loss: 29.4115 - val_accuracy: 0.6774\n",
            "Epoch 11/100\n",
            "1/1 [==============================] - 0s 93ms/step - loss: 9.9513 - accuracy: 0.6452 - val_loss: 24.2144 - val_accuracy: 0.3548\n",
            "Epoch 12/100\n",
            "1/1 [==============================] - 0s 91ms/step - loss: 2.3536 - accuracy: 0.9355 - val_loss: 26.1365 - val_accuracy: 0.3548\n",
            "Epoch 13/100\n",
            "1/1 [==============================] - 0s 93ms/step - loss: 1.5678 - accuracy: 0.9677 - val_loss: 28.2287 - val_accuracy: 0.3548\n",
            "Epoch 14/100\n",
            "1/1 [==============================] - 0s 88ms/step - loss: 1.0066 - accuracy: 0.9677 - val_loss: 28.9946 - val_accuracy: 0.3548\n",
            "Epoch 15/100\n",
            "1/1 [==============================] - 0s 93ms/step - loss: 0.4655 - accuracy: 0.9677 - val_loss: 32.4803 - val_accuracy: 0.6774\n",
            "Epoch 16/100\n",
            "1/1 [==============================] - 0s 91ms/step - loss: 1.3786 - accuracy: 0.8710 - val_loss: 35.8855 - val_accuracy: 0.6774\n",
            "Epoch 17/100\n",
            "1/1 [==============================] - 0s 87ms/step - loss: 2.5248 - accuracy: 0.7097 - val_loss: 35.3618 - val_accuracy: 0.6129\n",
            "Epoch 18/100\n",
            "1/1 [==============================] - 0s 96ms/step - loss: 1.0372 - accuracy: 0.8387 - val_loss: 35.1959 - val_accuracy: 0.3548\n",
            "Epoch 19/100\n",
            "1/1 [==============================] - 0s 89ms/step - loss: 0.5049 - accuracy: 0.9677 - val_loss: 36.5923 - val_accuracy: 0.3548\n",
            "Epoch 20/100\n",
            "1/1 [==============================] - 0s 92ms/step - loss: 0.8243 - accuracy: 0.9677 - val_loss: 37.7624 - val_accuracy: 0.3548\n",
            "Epoch 21/100\n",
            "1/1 [==============================] - 0s 96ms/step - loss: 1.0522 - accuracy: 0.9677 - val_loss: 38.7387 - val_accuracy: 0.3548\n",
            "Epoch 22/100\n",
            "1/1 [==============================] - 0s 90ms/step - loss: 1.2101 - accuracy: 0.9677 - val_loss: 39.4925 - val_accuracy: 0.3548\n",
            "Epoch 23/100\n",
            "1/1 [==============================] - 0s 88ms/step - loss: 1.2961 - accuracy: 0.9677 - val_loss: 40.0931 - val_accuracy: 0.3548\n",
            "Epoch 24/100\n",
            "1/1 [==============================] - 0s 87ms/step - loss: 1.3212 - accuracy: 0.9677 - val_loss: 40.5601 - val_accuracy: 0.3548\n",
            "Epoch 25/100\n",
            "1/1 [==============================] - 0s 90ms/step - loss: 1.2937 - accuracy: 0.9677 - val_loss: 40.9028 - val_accuracy: 0.3548\n",
            "Epoch 26/100\n",
            "1/1 [==============================] - 0s 90ms/step - loss: 1.2180 - accuracy: 0.9677 - val_loss: 41.1331 - val_accuracy: 0.3548\n",
            "Epoch 27/100\n",
            "1/1 [==============================] - 0s 91ms/step - loss: 1.0965 - accuracy: 0.9677 - val_loss: 41.2661 - val_accuracy: 0.3548\n",
            "Epoch 28/100\n",
            "1/1 [==============================] - 0s 92ms/step - loss: 0.9330 - accuracy: 0.9677 - val_loss: 41.3626 - val_accuracy: 0.3548\n",
            "Epoch 29/100\n",
            "1/1 [==============================] - 0s 102ms/step - loss: 0.7349 - accuracy: 0.9677 - val_loss: 41.4487 - val_accuracy: 0.3548\n",
            "Epoch 30/100\n",
            "1/1 [==============================] - 0s 87ms/step - loss: 0.5025 - accuracy: 0.9677 - val_loss: 41.9909 - val_accuracy: 0.5161\n",
            "Epoch 31/100\n",
            "1/1 [==============================] - 0s 91ms/step - loss: 0.5575 - accuracy: 0.8710 - val_loss: 42.7605 - val_accuracy: 0.6129\n",
            "Epoch 32/100\n",
            "1/1 [==============================] - 0s 88ms/step - loss: 0.8320 - accuracy: 0.8387 - val_loss: 42.3840 - val_accuracy: 0.5484\n",
            "Epoch 33/100\n",
            "1/1 [==============================] - 0s 87ms/step - loss: 0.5539 - accuracy: 0.8710 - val_loss: 42.2045 - val_accuracy: 0.3871\n",
            "Epoch 34/100\n",
            "1/1 [==============================] - 0s 94ms/step - loss: 0.4246 - accuracy: 0.9677 - val_loss: 42.4374 - val_accuracy: 0.3548\n",
            "Epoch 35/100\n",
            "1/1 [==============================] - 0s 91ms/step - loss: 0.5572 - accuracy: 0.9677 - val_loss: 42.6077 - val_accuracy: 0.3548\n",
            "Epoch 36/100\n",
            "1/1 [==============================] - 0s 87ms/step - loss: 0.6265 - accuracy: 0.9677 - val_loss: 42.6973 - val_accuracy: 0.3548\n",
            "Epoch 37/100\n",
            "1/1 [==============================] - 0s 86ms/step - loss: 0.6364 - accuracy: 0.9677 - val_loss: 42.7135 - val_accuracy: 0.3548\n",
            "Epoch 38/100\n",
            "1/1 [==============================] - 0s 91ms/step - loss: 0.5918 - accuracy: 0.9677 - val_loss: 42.6667 - val_accuracy: 0.3548\n",
            "Epoch 39/100\n",
            "1/1 [==============================] - 0s 87ms/step - loss: 0.4972 - accuracy: 0.9677 - val_loss: 42.6185 - val_accuracy: 0.3871\n",
            "Epoch 40/100\n",
            "1/1 [==============================] - 0s 101ms/step - loss: 0.3583 - accuracy: 0.9677 - val_loss: 42.9349 - val_accuracy: 0.4839\n",
            "Epoch 41/100\n",
            "1/1 [==============================] - 0s 108ms/step - loss: 0.3737 - accuracy: 0.8710 - val_loss: 43.1512 - val_accuracy: 0.5161\n",
            "Epoch 42/100\n",
            "1/1 [==============================] - 0s 93ms/step - loss: 0.4556 - accuracy: 0.8710 - val_loss: 42.7623 - val_accuracy: 0.4194\n",
            "Epoch 43/100\n",
            "1/1 [==============================] - 0s 94ms/step - loss: 0.2650 - accuracy: 0.9677 - val_loss: 42.6486 - val_accuracy: 0.3871\n",
            "Epoch 44/100\n",
            "1/1 [==============================] - 0s 88ms/step - loss: 0.3236 - accuracy: 0.9677 - val_loss: 42.6327 - val_accuracy: 0.3548\n",
            "Epoch 45/100\n",
            "1/1 [==============================] - 0s 90ms/step - loss: 0.3528 - accuracy: 0.9677 - val_loss: 42.6174 - val_accuracy: 0.3871\n",
            "Epoch 46/100\n",
            "1/1 [==============================] - 0s 88ms/step - loss: 0.3238 - accuracy: 0.9677 - val_loss: 42.6378 - val_accuracy: 0.3871\n",
            "Epoch 47/100\n",
            "1/1 [==============================] - 0s 91ms/step - loss: 0.2452 - accuracy: 0.9677 - val_loss: 42.8494 - val_accuracy: 0.4516\n",
            "Epoch 48/100\n",
            "1/1 [==============================] - 0s 88ms/step - loss: 0.2290 - accuracy: 0.9032 - val_loss: 42.9288 - val_accuracy: 0.4839\n",
            "Epoch 49/100\n",
            "1/1 [==============================] - 0s 88ms/step - loss: 0.2605 - accuracy: 0.8710 - val_loss: 42.5999 - val_accuracy: 0.4194\n",
            "Epoch 50/100\n",
            "1/1 [==============================] - 0s 97ms/step - loss: 0.1779 - accuracy: 0.9677 - val_loss: 42.4621 - val_accuracy: 0.3871\n",
            "Epoch 51/100\n",
            "1/1 [==============================] - 0s 93ms/step - loss: 0.2106 - accuracy: 0.9677 - val_loss: 42.4066 - val_accuracy: 0.3871\n",
            "Epoch 52/100\n",
            "1/1 [==============================] - 0s 88ms/step - loss: 0.2005 - accuracy: 0.9677 - val_loss: 42.4238 - val_accuracy: 0.4194\n",
            "Epoch 53/100\n",
            "1/1 [==============================] - 0s 88ms/step - loss: 0.1457 - accuracy: 0.9677 - val_loss: 42.5958 - val_accuracy: 0.4839\n",
            "Epoch 54/100\n",
            "1/1 [==============================] - 0s 91ms/step - loss: 0.1468 - accuracy: 0.9355 - val_loss: 42.5316 - val_accuracy: 0.4516\n",
            "Epoch 55/100\n",
            "1/1 [==============================] - 0s 89ms/step - loss: 0.1332 - accuracy: 0.9355 - val_loss: 42.2471 - val_accuracy: 0.4194\n",
            "Epoch 56/100\n",
            "1/1 [==============================] - 0s 89ms/step - loss: 0.1054 - accuracy: 0.9677 - val_loss: 42.1163 - val_accuracy: 0.4194\n",
            "Epoch 57/100\n",
            "1/1 [==============================] - 0s 90ms/step - loss: 0.1200 - accuracy: 0.9677 - val_loss: 42.0770 - val_accuracy: 0.4194\n",
            "Epoch 58/100\n",
            "1/1 [==============================] - 0s 94ms/step - loss: 0.0928 - accuracy: 0.9677 - val_loss: 42.1550 - val_accuracy: 0.4516\n",
            "Epoch 59/100\n",
            "1/1 [==============================] - 0s 89ms/step - loss: 0.0670 - accuracy: 0.9355 - val_loss: 42.1835 - val_accuracy: 0.4516\n",
            "Epoch 60/100\n",
            "1/1 [==============================] - 0s 87ms/step - loss: 0.0867 - accuracy: 0.9677 - val_loss: 41.9331 - val_accuracy: 0.4516\n",
            "Epoch 61/100\n",
            "1/1 [==============================] - 0s 102ms/step - loss: 0.0478 - accuracy: 0.9677 - val_loss: 41.7704 - val_accuracy: 0.4194\n",
            "Epoch 62/100\n",
            "1/1 [==============================] - 0s 89ms/step - loss: 0.0602 - accuracy: 0.9677 - val_loss: 41.7075 - val_accuracy: 0.4194\n",
            "Epoch 63/100\n",
            "1/1 [==============================] - 0s 94ms/step - loss: 0.0485 - accuracy: 0.9677 - val_loss: 41.7338 - val_accuracy: 0.4516\n",
            "Epoch 64/100\n",
            "1/1 [==============================] - 0s 94ms/step - loss: 0.0301 - accuracy: 1.0000 - val_loss: 41.7593 - val_accuracy: 0.4516\n",
            "Epoch 65/100\n",
            "1/1 [==============================] - 0s 88ms/step - loss: 0.0419 - accuracy: 0.9677 - val_loss: 41.6172 - val_accuracy: 0.4516\n",
            "Epoch 66/100\n",
            "1/1 [==============================] - 0s 88ms/step - loss: 0.0247 - accuracy: 1.0000 - val_loss: 41.4493 - val_accuracy: 0.4194\n",
            "Epoch 67/100\n",
            "1/1 [==============================] - 0s 91ms/step - loss: 0.0226 - accuracy: 1.0000 - val_loss: 41.3504 - val_accuracy: 0.4194\n",
            "Epoch 68/100\n",
            "1/1 [==============================] - 0s 89ms/step - loss: 0.0263 - accuracy: 0.9677 - val_loss: 41.3142 - val_accuracy: 0.4194\n",
            "Epoch 69/100\n",
            "1/1 [==============================] - 0s 89ms/step - loss: 0.0179 - accuracy: 1.0000 - val_loss: 41.3239 - val_accuracy: 0.4516\n",
            "Epoch 70/100\n",
            "1/1 [==============================] - 0s 93ms/step - loss: 0.0130 - accuracy: 1.0000 - val_loss: 41.3252 - val_accuracy: 0.4516\n",
            "Epoch 71/100\n",
            "1/1 [==============================] - 0s 94ms/step - loss: 0.0168 - accuracy: 1.0000 - val_loss: 41.2576 - val_accuracy: 0.4516\n",
            "Epoch 72/100\n",
            "1/1 [==============================] - 0s 100ms/step - loss: 0.0138 - accuracy: 1.0000 - val_loss: 41.1448 - val_accuracy: 0.4516\n",
            "Epoch 73/100\n",
            "1/1 [==============================] - 0s 95ms/step - loss: 0.0091 - accuracy: 1.0000 - val_loss: 41.0454 - val_accuracy: 0.4194\n",
            "Epoch 74/100\n",
            "1/1 [==============================] - 0s 88ms/step - loss: 0.0096 - accuracy: 1.0000 - val_loss: 40.9790 - val_accuracy: 0.4194\n",
            "Epoch 75/100\n",
            "1/1 [==============================] - 0s 94ms/step - loss: 0.0108 - accuracy: 1.0000 - val_loss: 40.9434 - val_accuracy: 0.4194\n",
            "Epoch 76/100\n",
            "1/1 [==============================] - 0s 89ms/step - loss: 0.0090 - accuracy: 1.0000 - val_loss: 40.9316 - val_accuracy: 0.4194\n",
            "Epoch 77/100\n",
            "1/1 [==============================] - 0s 91ms/step - loss: 0.0066 - accuracy: 1.0000 - val_loss: 40.9321 - val_accuracy: 0.4516\n",
            "Epoch 78/100\n",
            "1/1 [==============================] - 0s 93ms/step - loss: 0.0062 - accuracy: 1.0000 - val_loss: 40.9257 - val_accuracy: 0.4516\n",
            "Epoch 79/100\n",
            "1/1 [==============================] - 0s 94ms/step - loss: 0.0070 - accuracy: 1.0000 - val_loss: 40.8952 - val_accuracy: 0.4516\n",
            "Epoch 80/100\n",
            "1/1 [==============================] - 0s 89ms/step - loss: 0.0069 - accuracy: 1.0000 - val_loss: 40.8412 - val_accuracy: 0.4516\n",
            "Epoch 81/100\n",
            "1/1 [==============================] - 0s 88ms/step - loss: 0.0056 - accuracy: 1.0000 - val_loss: 40.7797 - val_accuracy: 0.4194\n",
            "Epoch 82/100\n",
            "1/1 [==============================] - 0s 92ms/step - loss: 0.0047 - accuracy: 1.0000 - val_loss: 40.7252 - val_accuracy: 0.4194\n",
            "Epoch 83/100\n",
            "1/1 [==============================] - 0s 103ms/step - loss: 0.0047 - accuracy: 1.0000 - val_loss: 40.6839 - val_accuracy: 0.4194\n",
            "Epoch 84/100\n",
            "1/1 [==============================] - 0s 88ms/step - loss: 0.0051 - accuracy: 1.0000 - val_loss: 40.6563 - val_accuracy: 0.4194\n",
            "Epoch 85/100\n",
            "1/1 [==============================] - 0s 99ms/step - loss: 0.0050 - accuracy: 1.0000 - val_loss: 40.6407 - val_accuracy: 0.4194\n",
            "Epoch 86/100\n",
            "1/1 [==============================] - 0s 88ms/step - loss: 0.0045 - accuracy: 1.0000 - val_loss: 40.6344 - val_accuracy: 0.4194\n",
            "Epoch 87/100\n",
            "1/1 [==============================] - 0s 89ms/step - loss: 0.0039 - accuracy: 1.0000 - val_loss: 40.6327 - val_accuracy: 0.4194\n",
            "Epoch 88/100\n",
            "1/1 [==============================] - 0s 91ms/step - loss: 0.0037 - accuracy: 1.0000 - val_loss: 40.6296 - val_accuracy: 0.4194\n",
            "Epoch 89/100\n",
            "1/1 [==============================] - 0s 93ms/step - loss: 0.0039 - accuracy: 1.0000 - val_loss: 40.6195 - val_accuracy: 0.4194\n",
            "Epoch 90/100\n",
            "1/1 [==============================] - 0s 89ms/step - loss: 0.0040 - accuracy: 1.0000 - val_loss: 40.5998 - val_accuracy: 0.4194\n",
            "Epoch 91/100\n",
            "1/1 [==============================] - 0s 87ms/step - loss: 0.0038 - accuracy: 1.0000 - val_loss: 40.5724 - val_accuracy: 0.4194\n",
            "Epoch 92/100\n",
            "1/1 [==============================] - 0s 94ms/step - loss: 0.0035 - accuracy: 1.0000 - val_loss: 40.5423 - val_accuracy: 0.4194\n",
            "Epoch 93/100\n",
            "1/1 [==============================] - 0s 98ms/step - loss: 0.0033 - accuracy: 1.0000 - val_loss: 40.5143 - val_accuracy: 0.4194\n",
            "Epoch 94/100\n",
            "1/1 [==============================] - 0s 92ms/step - loss: 0.0032 - accuracy: 1.0000 - val_loss: 40.4916 - val_accuracy: 0.4194\n",
            "Epoch 95/100\n",
            "1/1 [==============================] - 0s 96ms/step - loss: 0.0033 - accuracy: 1.0000 - val_loss: 40.4746 - val_accuracy: 0.4194\n",
            "Epoch 96/100\n",
            "1/1 [==============================] - 0s 92ms/step - loss: 0.0033 - accuracy: 1.0000 - val_loss: 40.4632 - val_accuracy: 0.4194\n",
            "Epoch 97/100\n",
            "1/1 [==============================] - 0s 90ms/step - loss: 0.0032 - accuracy: 1.0000 - val_loss: 40.4566 - val_accuracy: 0.4194\n",
            "Epoch 98/100\n",
            "1/1 [==============================] - 0s 88ms/step - loss: 0.0031 - accuracy: 1.0000 - val_loss: 40.4534 - val_accuracy: 0.4194\n",
            "Epoch 99/100\n",
            "1/1 [==============================] - 0s 92ms/step - loss: 0.0029 - accuracy: 1.0000 - val_loss: 40.4516 - val_accuracy: 0.4194\n",
            "Epoch 100/100\n",
            "1/1 [==============================] - 0s 86ms/step - loss: 0.0029 - accuracy: 1.0000 - val_loss: 40.4490 - val_accuracy: 0.4194\n"
          ]
        }
      ]
    },
    {
      "cell_type": "code",
      "source": [
        "model.save('Self_Face_Recognition.h5')"
      ],
      "metadata": {
        "id": "EXxjpSzqUG0L"
      },
      "execution_count": null,
      "outputs": []
    },
    {
      "cell_type": "code",
      "source": [
        "score = model.evaluate(x_test,y_test,verbose=0)\n",
        "print ('loss = ',score[0])\n",
        "print ('accuracy = ',score[1])"
      ],
      "metadata": {
        "id": "Njm63LxXUI00"
      },
      "execution_count": null,
      "outputs": []
    },
    {
      "cell_type": "code",
      "source": [
        "i = randint(0,len(test_list)-1)\n",
        "print ('picture ',i)\n",
        "predict_test = test_list[i]\n",
        "image = load_img(predict_test,target_size=(150,150))\n",
        "array = img_to_array(image)\n",
        "plt.imshow(image)\n",
        "# Sample Predict\n",
        "sample = np.array([array])\n",
        "predictions = np.argmax(model.predict(sample), axis=-1)\n",
        "print ('picture ',i)\n",
        "print(\"predictions number:\", predictions)\n",
        "print(\"predictions:\", y_label[int(predictions)])"
      ],
      "metadata": {
        "id": "KEzy1mwFUK2T"
      },
      "execution_count": null,
      "outputs": []
    },
    {
      "cell_type": "code",
      "source": [
        "# Graphs of accuracy\n",
        "plt.figure(figsize=(8,5))\n",
        "plt.grid(True)\n",
        "#plt.gca().set_ylim(0,1)\n",
        "plt.plot(history.history['accuracy'])\n",
        "plt.plot(history.history['val_accuracy'])\n",
        "plt.title('model accuracy')\n",
        "plt.ylabel('accuracy')\n",
        "plt.xlabel('epoch')\n",
        "plt.legend(['train','validation'],loc='lower right')\n",
        "plt.show()"
      ],
      "metadata": {
        "id": "-1j1UQ3uUNEj"
      },
      "execution_count": null,
      "outputs": []
    }
  ]
}