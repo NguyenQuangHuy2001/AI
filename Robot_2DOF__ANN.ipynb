{
  "nbformat": 4,
  "nbformat_minor": 0,
  "metadata": {
    "colab": {
      "name": "Robot_2DOF _ANN.ipynb",
      "provenance": [],
      "collapsed_sections": [],
      "authorship_tag": "ABX9TyP7OtPiHS3Rm7TurdLDlUbb",
      "include_colab_link": true
    },
    "kernelspec": {
      "name": "python3",
      "display_name": "Python 3"
    },
    "language_info": {
      "name": "python"
    },
    "accelerator": "GPU"
  },
  "cells": [
    {
      "cell_type": "markdown",
      "metadata": {
        "id": "view-in-github",
        "colab_type": "text"
      },
      "source": [
        "<a href=\"https://colab.research.google.com/github/NguyenQuangHuy2001/AI/blob/main/Robot_2DOF__ANN.ipynb\" target=\"_parent\"><img src=\"https://colab.research.google.com/assets/colab-badge.svg\" alt=\"Open In Colab\"/></a>"
      ]
    },
    {
      "cell_type": "markdown",
      "source": [
        "\n",
        "Tạo dữ liệu\n"
      ],
      "metadata": {
        "id": "gYsaVW71oIHX"
      }
    },
    {
      "cell_type": "code",
      "execution_count": 3,
      "metadata": {
        "id": "WTWRnAzT9aTI"
      },
      "outputs": [],
      "source": [
        "from math import cos, sin, pi\n",
        "from pandas import DataFrame\n",
        "import numpy as np\n",
        "\n",
        "theta1 = []\n",
        "theta2 = []\n",
        "px = []\n",
        "py = []\n",
        "\n",
        "l1 = 40\n",
        "l2 = 50\n",
        "\n",
        "for i1 in range (0,800):\n",
        "    for i2 in range (0,1700):\n",
        "        t1 = i1/10\n",
        "        t2 = i2/10\n",
        "        theta1.append(t1)\n",
        "        theta2.append(t2)\n",
        "        px.append(round(l1*cos(t1*pi/180) + l2*cos((t1+t2)*pi/180),2))\n",
        "        py.append(round(l1*sin(t1*pi/180) + l2*sin((t1+t2)*pi/180),2))\n",
        "df = DataFrame(np.c_[theta1,theta2,px,py],columns = ['theta1','theta2','px','py'])\n",
        "export_csv = df.to_csv (r'Robot_2DOF_ANN.csv', index = None, header=True)"
      ]
    },
    {
      "cell_type": "markdown",
      "source": [
        "Import thư viện\n",
        "\n",
        "\n",
        "\n"
      ],
      "metadata": {
        "id": "LW9zrcESoXGt"
      }
    },
    {
      "cell_type": "code",
      "source": [
        "\n",
        "\n",
        "from keras.models import Sequential\n",
        "from keras.layers import Dense, Flatten, Dropout\n",
        "from keras.utils import np_utils\n",
        "from tensorflow.keras.optimizers import Adam, SGD, RMSprop\n",
        "from sklearn.preprocessing import StandardScaler\n",
        "import pandas as pd\n",
        "import matplotlib.pyplot as plt\n",
        "from sklearn.model_selection import train_test_split"
      ],
      "metadata": {
        "id": "4jZTiYqN_ZjP"
      },
      "execution_count": 4,
      "outputs": []
    },
    {
      "cell_type": "markdown",
      "source": [
        "Xử lý dữ liệu "
      ],
      "metadata": {
        "id": "zFKyiCjzohkA"
      }
    },
    {
      "cell_type": "code",
      "source": [
        "url = 'Robot_2DOF_ANN.csv'\n",
        "data = pd.read_csv(url)\n",
        "print(data.head(100))\n",
        "data_x = data.drop(data.columns[:2], axis = 1)\n",
        "#print(data_x)\n",
        "X = data_x.values.tolist()\n",
        "data_y = data.drop(data.columns[2:], axis = 1)\n",
        "#print(data_y)\n",
        "Y = data_y.values.tolist()\n",
        "X_train, X_test, Y_train, Y_test = train_test_split(X,Y,test_size = 0.2)"
      ],
      "metadata": {
        "colab": {
          "base_uri": "https://localhost:8080/"
        },
        "id": "mYGcvxgV_c1z",
        "outputId": "ad050b77-1e4b-4ac9-cd29-9259783b413a"
      },
      "execution_count": 5,
      "outputs": [
        {
          "output_type": "stream",
          "name": "stdout",
          "text": [
            "    theta1  theta2     px    py\n",
            "0      0.0     0.0  90.00  0.00\n",
            "1      0.0     0.1  90.00  0.09\n",
            "2      0.0     0.2  90.00  0.17\n",
            "3      0.0     0.3  90.00  0.26\n",
            "4      0.0     0.4  90.00  0.35\n",
            "..     ...     ...    ...   ...\n",
            "95     0.0     9.5  89.31  8.25\n",
            "96     0.0     9.6  89.30  8.34\n",
            "97     0.0     9.7  89.29  8.42\n",
            "98     0.0     9.8  89.27  8.51\n",
            "99     0.0     9.9  89.26  8.60\n",
            "\n",
            "[100 rows x 4 columns]\n"
          ]
        }
      ]
    },
    {
      "cell_type": "code",
      "source": [
        "\n",
        "standard_scaler = StandardScaler()\n",
        "X_train = standard_scaler.fit_transform(X_train)\n",
        "X_train = X_train.data.tolist()\n",
        "\n",
        "X_test = standard_scaler.fit_transform(X_test)\n",
        "X_test = X_test.data.tolist()\n",
        "\n",
        "X_train = np.array(X_train)\n",
        "X_test = np.array(X_test)\n",
        "Y_train = np.array(Y_train)\n",
        "Y_test = np.array(Y_test)\n"
      ],
      "metadata": {
        "id": "HCuWOsfnWiwa"
      },
      "execution_count": 6,
      "outputs": []
    },
    {
      "cell_type": "markdown",
      "source": [
        "Tạo model "
      ],
      "metadata": {
        "id": "tDirk9Aook_2"
      }
    },
    {
      "cell_type": "code",
      "source": [
        "#Model\n",
        "model = Sequential()\n",
        "model.add(Dense(64, activation='relu',kernel_initializer='normal', input_shape = (2,)))\n",
        "model.add(Dense(32,activation='relu'))\n",
        "model.add(Dense(2))\n",
        "model.summary()\n"
      ],
      "metadata": {
        "colab": {
          "base_uri": "https://localhost:8080/"
        },
        "id": "6x1-4-f1YyNp",
        "outputId": "affd97dc-a2b7-4846-f222-49f3cf8919f6"
      },
      "execution_count": 7,
      "outputs": [
        {
          "output_type": "stream",
          "name": "stdout",
          "text": [
            "Model: \"sequential\"\n",
            "_________________________________________________________________\n",
            " Layer (type)                Output Shape              Param #   \n",
            "=================================================================\n",
            " dense (Dense)               (None, 64)                192       \n",
            "                                                                 \n",
            " dense_1 (Dense)             (None, 32)                2080      \n",
            "                                                                 \n",
            " dense_2 (Dense)             (None, 2)                 66        \n",
            "                                                                 \n",
            "=================================================================\n",
            "Total params: 2,338\n",
            "Trainable params: 2,338\n",
            "Non-trainable params: 0\n",
            "_________________________________________________________________\n"
          ]
        }
      ]
    },
    {
      "cell_type": "markdown",
      "source": [
        "Trainning"
      ],
      "metadata": {
        "id": "z6MlLy2jt3y-"
      }
    },
    {
      "cell_type": "code",
      "source": [
        "model.compile(loss='mae', optimizer =Adam(), metrics=['acc']) #sử dụng sai số tuyệt đối mae\n",
        "history = model.fit(X_train, Y_train, batch_size = 32, epochs = 10,verbose = 1, validation_split=0.2)\n",
        "#Lưu model\n",
        "model.save('Robot_2DOF_ANN.h5')"
      ],
      "metadata": {
        "colab": {
          "base_uri": "https://localhost:8080/"
        },
        "id": "dYAm4ogQthIB",
        "outputId": "a32a7e16-9aef-41ba-ef55-d7092e3c3113"
      },
      "execution_count": 12,
      "outputs": [
        {
          "output_type": "stream",
          "name": "stdout",
          "text": [
            "Epoch 1/10\n",
            "27200/27200 [==============================] - 107s 4ms/step - loss: 1.2625 - acc: 0.9871 - val_loss: 1.1485 - val_acc: 0.9822\n",
            "Epoch 2/10\n",
            "27200/27200 [==============================] - 105s 4ms/step - loss: 0.8971 - acc: 0.9873 - val_loss: 0.8838 - val_acc: 0.9849\n",
            "Epoch 3/10\n",
            "27200/27200 [==============================] - 96s 4ms/step - loss: 0.8035 - acc: 0.9885 - val_loss: 0.7708 - val_acc: 0.9902\n",
            "Epoch 4/10\n",
            "27200/27200 [==============================] - 97s 4ms/step - loss: 0.7716 - acc: 0.9891 - val_loss: 0.7693 - val_acc: 0.9896\n",
            "Epoch 5/10\n",
            "27200/27200 [==============================] - 104s 4ms/step - loss: 0.7464 - acc: 0.9893 - val_loss: 0.6799 - val_acc: 0.9905\n",
            "Epoch 6/10\n",
            "27200/27200 [==============================] - 104s 4ms/step - loss: 0.7292 - acc: 0.9895 - val_loss: 0.6484 - val_acc: 0.9902\n",
            "Epoch 7/10\n",
            "27200/27200 [==============================] - 96s 4ms/step - loss: 0.7134 - acc: 0.9894 - val_loss: 0.6474 - val_acc: 0.9903\n",
            "Epoch 8/10\n",
            "27200/27200 [==============================] - 104s 4ms/step - loss: 0.6960 - acc: 0.9895 - val_loss: 0.6471 - val_acc: 0.9897\n",
            "Epoch 9/10\n",
            "27200/27200 [==============================] - 96s 4ms/step - loss: 0.6856 - acc: 0.9898 - val_loss: 0.6697 - val_acc: 0.9922\n",
            "Epoch 10/10\n",
            "27200/27200 [==============================] - 104s 4ms/step - loss: 0.6798 - acc: 0.9896 - val_loss: 0.6223 - val_acc: 0.9930\n"
          ]
        }
      ]
    },
    {
      "cell_type": "markdown",
      "source": [
        "Đánh giá - vẽ đồ thị"
      ],
      "metadata": {
        "id": "ZFa5nBeXuc6n"
      }
    },
    {
      "cell_type": "code",
      "source": [
        "#Danh gia\n",
        "score = model.evaluate(X_test, Y_test, verbose=0)\n",
        "print('Sai số:', score[0])\n",
        "print('Độ chính xác', score[1])\n",
        "#Do thi\n",
        "pd.DataFrame(history.history).plot(figsize=(8,5))\n",
        "plt.grid(True)\n",
        "plt.gca().set_ylim(0,1)\n",
        "plt.show()"
      ],
      "metadata": {
        "colab": {
          "base_uri": "https://localhost:8080/",
          "height": 360
        },
        "id": "DSYLwaKztxUP",
        "outputId": "0840b328-f7bc-4d2d-df0e-a133b7f7ba50"
      },
      "execution_count": 13,
      "outputs": [
        {
          "output_type": "stream",
          "name": "stdout",
          "text": [
            "Sai số: 0.6380792856216431\n",
            "Độ chính xác 0.9911580681800842\n"
          ]
        },
        {
          "output_type": "display_data",
          "data": {
            "text/plain": [
              "<Figure size 576x360 with 1 Axes>"
            ],
            "image/png": "[encoded data removed]"
          },
          "metadata": {
            "needs_background": "light"
          }
        }
      ]
    },
    {
      "cell_type": "markdown",
      "source": [
        "Dự đoán "
      ],
      "metadata": {
        "id": "sk6WDut-ouGo"
      }
    },
    {
      "cell_type": "code",
      "source": [
        "score = model.evaluate(X_test,Y_test,verbose=0)\n",
        "print ('loss = ',score[0])\n",
        "print ('abs error = ',score[1])\n",
        "\n",
        "Y_predict = model.predict(X_test)\n",
        "cal = pd.DataFrame(np.c_[Y_test,Y_predict],columns = ['theta1','theta2','t1 predict','t2 predict'])\n",
        "cal"
      ],
      "metadata": {
        "colab": {
          "base_uri": "https://localhost:8080/",
          "height": 460
        },
        "id": "xfgG7bOdab3b",
        "outputId": "93db91a4-0b6d-49f7-ed33-e5ae943702fe"
      },
      "execution_count": 14,
      "outputs": [
        {
          "output_type": "stream",
          "name": "stdout",
          "text": [
            "loss =  0.6380792856216431\n",
            "abs error =  0.9911580681800842\n"
          ]
        },
        {
          "output_type": "execute_result",
          "data": {
            "text/plain": [
              "        theta1  theta2  t1 predict  t2 predict\n",
              "0         14.4     2.1   14.250446    3.642915\n",
              "1         33.3   122.3   35.131935  122.216454\n",
              "2         59.0    87.8   58.770397   87.826752\n",
              "3         45.8   112.0   44.726429  111.911308\n",
              "4         13.5    88.5   13.653610   88.171341\n",
              "...        ...     ...         ...         ...\n",
              "271995    78.5    18.6   78.198891   19.269878\n",
              "271996     6.9   114.5    7.218812  114.503860\n",
              "271997    57.0    60.4   56.628922   61.934994\n",
              "271998    26.7   113.7   27.565250  113.683670\n",
              "271999    76.9   112.3   76.597916  112.552773\n",
              "\n",
              "[272000 rows x 4 columns]"
            ],
            "text/html": [
              "\n",
              "  <div id=\"df-9dec5e13-93d1-4c21-bbd3-69f4c027807c\">\n",
              "    <div class=\"colab-df-container\">\n",
              "      <div>\n",
              "<style scoped>\n",
              "    .dataframe tbody tr th:only-of-type {\n",
              "        vertical-align: middle;\n",
              "    }\n",
              "\n",
              "    .dataframe tbody tr th {\n",
              "        vertical-align: top;\n",
              "    }\n",
              "\n",
              "    .dataframe thead th {\n",
              "        text-align: right;\n",
              "    }\n",
              "</style>\n",
              "<table border=\"1\" class=\"dataframe\">\n",
              "  <thead>\n",
              "    <tr style=\"text-align: right;\">\n",
              "      <th></th>\n",
              "      <th>theta1</th>\n",
              "      <th>theta2</th>\n",
              "      <th>t1 predict</th>\n",
              "      <th>t2 predict</th>\n",
              "    </tr>\n",
              "  </thead>\n",
              "  <tbody>\n",
              "    <tr>\n",
              "      <th>0</th>\n",
              "      <td>14.4</td>\n",
              "      <td>2.1</td>\n",
              "      <td>14.250446</td>\n",
              "      <td>3.642915</td>\n",
              "    </tr>\n",
              "    <tr>\n",
              "      <th>1</th>\n",
              "      <td>33.3</td>\n",
              "      <td>122.3</td>\n",
              "      <td>35.131935</td>\n",
              "      <td>122.216454</td>\n",
              "    </tr>\n",
              "    <tr>\n",
              "      <th>2</th>\n",
              "      <td>59.0</td>\n",
              "      <td>87.8</td>\n",
              "      <td>58.770397</td>\n",
              "      <td>87.826752</td>\n",
              "    </tr>\n",
              "    <tr>\n",
              "      <th>3</th>\n",
              "      <td>45.8</td>\n",
              "      <td>112.0</td>\n",
              "      <td>44.726429</td>\n",
              "      <td>111.911308</td>\n",
              "    </tr>\n",
              "    <tr>\n",
              "      <th>4</th>\n",
              "      <td>13.5</td>\n",
              "      <td>88.5</td>\n",
              "      <td>13.653610</td>\n",
              "      <td>88.171341</td>\n",
              "    </tr>\n",
              "    <tr>\n",
              "      <th>...</th>\n",
              "      <td>...</td>\n",
              "      <td>...</td>\n",
              "      <td>...</td>\n",
              "      <td>...</td>\n",
              "    </tr>\n",
              "    <tr>\n",
              "      <th>271995</th>\n",
              "      <td>78.5</td>\n",
              "      <td>18.6</td>\n",
              "      <td>78.198891</td>\n",
              "      <td>19.269878</td>\n",
              "    </tr>\n",
              "    <tr>\n",
              "      <th>271996</th>\n",
              "      <td>6.9</td>\n",
              "      <td>114.5</td>\n",
              "      <td>7.218812</td>\n",
              "      <td>114.503860</td>\n",
              "    </tr>\n",
              "    <tr>\n",
              "      <th>271997</th>\n",
              "      <td>57.0</td>\n",
              "      <td>60.4</td>\n",
              "      <td>56.628922</td>\n",
              "      <td>61.934994</td>\n",
              "    </tr>\n",
              "    <tr>\n",
              "      <th>271998</th>\n",
              "      <td>26.7</td>\n",
              "      <td>113.7</td>\n",
              "      <td>27.565250</td>\n",
              "      <td>113.683670</td>\n",
              "    </tr>\n",
              "    <tr>\n",
              "      <th>271999</th>\n",
              "      <td>76.9</td>\n",
              "      <td>112.3</td>\n",
              "      <td>76.597916</td>\n",
              "      <td>112.552773</td>\n",
              "    </tr>\n",
              "  </tbody>\n",
              "</table>\n",
              "<p>272000 rows × 4 columns</p>\n",
              "</div>\n",
              "      <button class=\"colab-df-convert\" onclick=\"convertToInteractive('df-9dec5e13-93d1-4c21-bbd3-69f4c027807c')\"\n",
              "              title=\"Convert this dataframe to an interactive table.\"\n",
              "              style=\"display:none;\">\n",
              "        \n",
              "  <svg xmlns=\"http://www.w3.org/2000/svg\" height=\"24px\"viewBox=\"0 0 24 24\"\n",
              "       width=\"24px\">\n",
              "    <path d=\"M0 0h24v24H0V0z\" fill=\"none\"/>\n",
              "    <path d=\"M18.56 5.44l.94 2.06.94-2.06 2.06-.94-2.06-.94-.94-2.06-.94 2.06-2.06.94zm-11 1L8.5 8.5l.94-2.06 2.06-.94-2.06-.94L8.5 2.5l-.94 2.06-2.06.94zm10 10l.94 2.06.94-2.06 2.06-.94-2.06-.94-.94-2.06-.94 2.06-2.06.94z\"/><path d=\"M17.41 7.96l-1.37-1.37c-.4-.4-.92-.59-1.43-.59-.52 0-1.04.2-1.43.59L10.3 9.45l-7.72 7.72c-.78.78-.78 2.05 0 2.83L4 21.41c.39.39.9.59 1.41.59.51 0 1.02-.2 1.41-.59l7.78-7.78 2.81-2.81c.8-.78.8-2.07 0-2.86zM5.41 20L4 18.59l7.72-7.72 1.47 1.35L5.41 20z\"/>\n",
              "  </svg>\n",
              "      </button>\n",
              "      \n",
              "  <style>\n",
              "    .colab-df-container {\n",
              "      display:flex;\n",
              "      flex-wrap:wrap;\n",
              "      gap: 12px;\n",
              "    }\n",
              "\n",
              "    .colab-df-convert {\n",
              "      background-color: #E8F0FE;\n",
              "      border: none;\n",
              "      border-radius: 50%;\n",
              "      cursor: pointer;\n",
              "      display: none;\n",
              "      fill: #1967D2;\n",
              "      height: 32px;\n",
              "      padding: 0 0 0 0;\n",
              "      width: 32px;\n",
              "    }\n",
              "\n",
              "    .colab-df-convert:hover {\n",
              "      background-color: #E2EBFA;\n",
              "      box-shadow: 0px 1px 2px rgba(60, 64, 67, 0.3), 0px 1px 3px 1px rgba(60, 64, 67, 0.15);\n",
              "      fill: #174EA6;\n",
              "    }\n",
              "\n",
              "    [theme=dark] .colab-df-convert {\n",
              "      background-color: #3B4455;\n",
              "      fill: #D2E3FC;\n",
              "    }\n",
              "\n",
              "    [theme=dark] .colab-df-convert:hover {\n",
              "      background-color: #434B5C;\n",
              "      box-shadow: 0px 1px 3px 1px rgba(0, 0, 0, 0.15);\n",
              "      filter: drop-shadow(0px 1px 2px rgba(0, 0, 0, 0.3));\n",
              "      fill: #FFFFFF;\n",
              "    }\n",
              "  </style>\n",
              "\n",
              "      <script>\n",
              "        const buttonEl =\n",
              "          document.querySelector('#df-9dec5e13-93d1-4c21-bbd3-69f4c027807c button.colab-df-convert');\n",
              "        buttonEl.style.display =\n",
              "          google.colab.kernel.accessAllowed ? 'block' : 'none';\n",
              "\n",
              "        async function convertToInteractive(key) {\n",
              "          const element = document.querySelector('#df-9dec5e13-93d1-4c21-bbd3-69f4c027807c');\n",
              "          const dataTable =\n",
              "            await google.colab.kernel.invokeFunction('convertToInteractive',\n",
              "                                                     [key], {});\n",
              "          if (!dataTable) return;\n",
              "\n",
              "          const docLinkHtml = 'Like what you see? Visit the ' +\n",
              "            '<a target=\"_blank\" href=https://colab.research.google.com/notebooks/data_table.ipynb>data table notebook</a>'\n",
              "            + ' to learn more about interactive tables.';\n",
              "          element.innerHTML = '';\n",
              "          dataTable['output_type'] = 'display_data';\n",
              "          await google.colab.output.renderOutput(dataTable, element);\n",
              "          const docLink = document.createElement('div');\n",
              "          docLink.innerHTML = docLinkHtml;\n",
              "          element.appendChild(docLink);\n",
              "        }\n",
              "      </script>\n",
              "    </div>\n",
              "  </div>\n",
              "  "
            ]
          },
          "metadata": {},
          "execution_count": 14
        }
      ]
    }
  ]
}